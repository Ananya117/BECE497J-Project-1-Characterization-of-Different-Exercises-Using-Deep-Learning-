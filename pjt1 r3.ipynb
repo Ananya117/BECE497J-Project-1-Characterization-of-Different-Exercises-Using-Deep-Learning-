import cv2
import mediapipe as mp
import numpy as np
import pandas as pd
import matplotlib.pyplot as plt

# --- CONFIG ---
VIDEO_PATH = r'C:\Blood of the dragon\DL\videos\pull up_1.mp4'

# --- POSE SETUP ---
mp_pose = mp.solutions.pose
pose = mp_pose.Pose(static_image_mode=False, min_detection_confidence=0.5, min_tracking_confidence=0.5)

def calculate_angle(a, b, c):
    a = np.array(a)
    b = np.array(b)
    c = np.array(c)
    ba = a - b
    bc = c - b
    cosine_angle = np.dot(ba, bc) / (np.linalg.norm(ba) * np.linalg.norm(bc))
    angle = np.arccos(np.clip(cosine_angle, -1.0, 1.0))
    return np.degrees(angle)

# --- DATA EXTRACTION ---
data = []
cap = cv2.VideoCapture(VIDEO_PATH)
fps = cap.get(cv2.CAP_PROP_FPS)
frame_num = 0

while cap.isOpened():
    ret, frame = cap.read()
    if not ret:
        break
    frame_num += 1
    rgb = cv2.cvtColor(frame, cv2.COLOR_BGR2RGB)
    results = pose.process(rgb)
    if results.pose_landmarks:
        landmarks = results.pose_landmarks.landmark
        row = [frame_num]
        for lm in landmarks:
            row.extend([lm.x, lm.y, lm.z])
        # Right elbow angle (shoulder=12, elbow=14, wrist=16)
        right_elbow_angle = calculate_angle(
            [landmarks[12].x, landmarks[12].y, landmarks[12].z],
            [landmarks[14].x, landmarks[14].y, landmarks[14].z],
            [landmarks[16].x, landmarks[16].y, landmarks[16].z]
        )
        # Left elbow angle (shoulder=11, elbow=13, wrist=15)
        left_elbow_angle = calculate_angle(
            [landmarks[11].x, landmarks[11].y, landmarks[11].z],
            [landmarks[13].x, landmarks[13].y, landmarks[13].z],
            [landmarks[15].x, landmarks[15].y, landmarks[15].z]
        )
        # Right shoulder angle (hip=24, shoulder=12, elbow=14)
        right_shoulder_angle = calculate_angle(
            [landmarks[24].x, landmarks[24].y, landmarks[24].z],
            [landmarks[12].x, landmarks[12].y, landmarks[12].z],
            [landmarks[14].x, landmarks[14].y, landmarks[14].z]
        )
        # Left shoulder angle (hip=23, shoulder=11, elbow=13)
        left_shoulder_angle = calculate_angle(
            [landmarks[23].x, landmarks[23].y, landmarks[23].z],
            [landmarks[11].x, landmarks[11].y, landmarks[11].z],
            [landmarks[13].x, landmarks[13].y, landmarks[13].z]
        )
        row.extend([right_elbow_angle, left_elbow_angle, right_shoulder_angle, left_shoulder_angle])
        data.append(row)

cap.release()
pose.close()

# --- DATAFRAME SETUP ---
columns = ['frame']
for i in range(33):
    columns += [f'lm{i}_x', f'lm{i}_y', f'lm{i}_z']
columns += ['right_elbow_angle', 'left_elbow_angle', 'right_shoulder_angle', 'left_shoulder_angle']
df = pd.DataFrame(data, columns=columns)
df['time_s'] = df['frame'] / fps

# --- KINEMATIC METRICS (Y-axis, 5-point central diff, raw) ---
h = 1.0 / fps
for joint in ['lm12', 'lm11', 'lm14', 'lm13']:
    df[f'{joint}_y_disp'] = df[f'{joint}_y'].diff().fillna(0)
    df[f'{joint}_y_v'] = (
        -df[f'{joint}_y'].shift(-2) + 8 * df[f'{joint}_y'].shift(-1)
        - 8 * df[f'{joint}_y'].shift(1) + df[f'{joint}_y'].shift(2)
    ) / (12 * h)
    df[f'{joint}_y_a'] = (
        -df[f'{joint}_y'].shift(-2)
        + 16 * df[f'{joint}_y'].shift(-1)
        - 30 * df[f'{joint}_y']
        + 16 * df[f'{joint}_y'].shift(1)
        - df[f'{joint}_y'].shift(2)
    ) / (12 * h ** 2)

df.fillna(0, inplace=True)
df.to_excel('velocity_pushup.xlsx', index=False)
print("Done! Data saved to velocity_pushup.xlsx")

# --- SHOULDER ANGLE PLOT ---
plt.figure(figsize=(10, 6))
plt.plot(df['time_s'], df['right_shoulder_angle'], label='Right Shoulder Angle', color='orange')
plt.plot(df['time_s'], df['left_shoulder_angle'], label='Left Shoulder Angle', color='purple')
plt.xlabel('Time (s)')
plt.ylabel('Shoulder Angle (degrees)')
plt.title('Shoulder Angles Over Time')
plt.legend()
plt.grid()
plt.tight_layout()
plt.show()

# --- SEPARATE PLOTS FOR EACH JOINT ---
joint_names = {
    'lm12': 'Right Shoulder',
    'lm11': 'Left Shoulder',
    'lm14': 'Right Elbow',
    'lm13': 'Left Elbow'
}
joint_colors = {
    'lm12': 'green',
    'lm11': 'magenta',
    'lm14': 'blue',
    'lm13': 'cyan'
}
for joint in ['lm12', 'lm11', 'lm14', 'lm13']:
    df[f'{joint}_y_actual_disp'] = df[f'{joint}_y'] - df[f'{joint}_y'].iloc[0]


# for joint in ['lm12', 'lm11', 'lm14', 'lm13']:
#     # plt.figure(figsize=(12, 8))
#     # plt.subplot(3, 1, 1)
#     # plt.plot(df['time_s'], df[f'{joint}_y_disp'], color=joint_colors[joint])
#     # plt.ylabel('Displacement Y')
#     # plt.title(f'{joint_names[joint]}: Y Displacement (Frame-to-Frame)')
#     # plt.grid()

#     plt.figure(figsize=(10, 4))
#     plt.subplot(3, 1, 1)
#     plt.plot(df['time_s'], df['lm12_y_actual_disp'], color='green')
#     plt.xlabel('Time (s)')
#     plt.ylabel('Actual Displacement Y')
#     plt.title('Right Shoulder: Actual Y Displacement Over Time')
#     plt.grid()
#     # plt.tight_layout()
#     # plt.show()

#     plt.subplot(3, 1, 2)
#     plt.plot(df['time_s'], df[f'{joint}_y_v'], color=joint_colors[joint])
#     plt.ylabel('Velocity Y')
#     plt.title(f'{joint_names[joint]}: Y Velocity (5-point)')
#     plt.grid()

#     plt.subplot(3, 1, 3)
#     plt.plot(df['time_s'], df[f'{joint}_y_a'], color=joint_colors[joint])
#     plt.xlabel('Time (s)')
#     plt.ylabel('Acceleration Y')
#     plt.title(f'{joint_names[joint]}: Y Acceleration (5-point)')
#     plt.grid()

#     plt.tight_layout()
#     plt.show()

# ACTUAL displacement (relative to starting position) for right shoulder

for joint in ['lm12', 'lm11', 'lm14', 'lm13']:
    plt.figure(figsize=(10, 4))
    # Actual Displacement
    plt.subplot(3, 1, 1)
    plt.plot(df['time_s'], df[f'{joint}_y_actual_disp'], color=joint_colors[joint])
    plt.xlabel('Time (s)')
    plt.ylabel('Actual Displacement Y')
    plt.title(f"{joint_names[joint]}: Actual Y Displacement Over Time")
    plt.grid()

    # Velocity
    plt.subplot(3, 1, 2)
    plt.plot(df['time_s'], df[f'{joint}_y_v'], color=joint_colors[joint])
    plt.ylabel('Velocity Y')
    plt.title(f'{joint_names[joint]}: Y Velocity (5-point)')
    plt.grid()

    # Acceleration
    plt.subplot(3, 1, 3)
    plt.plot(df['time_s'], df[f'{joint}_y_a'], color=joint_colors[joint])
    plt.xlabel('Time (s)')
    plt.ylabel('Acceleration Y')
    plt.title(f'{joint_names[joint]}: Y Acceleration (5-point)')
    plt.grid()

    plt.tight_layout()
    plt.show()

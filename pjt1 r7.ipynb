import cv2
import mediapipe as mp
import numpy as np
import pandas as pd
import os

# --- CONFIG ---
VIDEO_PATH = r'C:\Blood of the dragon\DL\videos\pull up_1.mp4'
OUTPUT_XLSX = r'C:\Blood of the dragon\DL\videos\pull_up_1_landmarks_angles.xlsx'

# --- POSE SETUP ---
mp_pose = mp.solutions.pose
pose = mp_pose.Pose(static_image_mode=False, min_detection_confidence=0.5, min_tracking_confidence=0.5)

def calculate_angle(a, b, c):
    a, b, c = np.array(a), np.array(b), np.array(c)
    ba, bc = a - b, c - b
    cosine_angle = np.dot(ba, bc) / (np.linalg.norm(ba) * np.linalg.norm(bc))
    angle = np.arccos(np.clip(cosine_angle, -1.0, 1.0))
    return np.degrees(angle)

cap = cv2.VideoCapture(VIDEO_PATH)
data = []
frame_num = 0

while cap.isOpened():
    ret, frame = cap.read()
    if not ret:
        break
    frame_num += 1
    rgb = cv2.cvtColor(frame, cv2.COLOR_BGR2RGB)
    results = pose.process(rgb)
    if results.pose_landmarks:
        lmarks = results.pose_landmarks.landmark
        row = [frame_num]
        for lm in lmarks:
            # Save normalized x, y, z for each landmark
            row.extend([lm.x, lm.y, lm.z])
        # Calculate right elbow: shoulder(12), elbow(14), wrist(16)
        right_elbow_angle = calculate_angle([lmarks[12].x, lmarks[12].y, lmarks[12].z],
                                            [lmarks[14].x, lmarks[14].y, lmarks[14].z],
                                            [lmarks[16].x, lmarks[16].y, lmarks[16].z])
        # Calculate left elbow: shoulder(11), elbow(13), wrist(15)
        left_elbow_angle = calculate_angle([lmarks[11].x, lmarks[11].y, lmarks[11].z],
                                           [lmarks[13].x, lmarks[13].y, lmarks[13].z],
                                           [lmarks[15].x, lmarks[15].y, lmarks[15].z])
        row.extend([right_elbow_angle, left_elbow_angle])
        data.append(row)

cap.release()

# Create column headers
columns = ['frame']
for i in range(33):
    columns.extend([f'lm{i}_x', f'lm{i}_y', f'lm{i}_z'])
columns.extend(['right_elbow_angle', 'left_elbow_angle'])

df = pd.DataFrame(data, columns=columns)
df.to_excel(OUTPUT_XLSX, index=False)
print(f"Excel sheet saved as {OUTPUT_XLSX}")

import matplotlib.pyplot as plt

# Get FPS from video
cap = cv2.VideoCapture(VIDEO_PATH)
fps = cap.get(cv2.CAP_PROP_FPS)
cap.release()

# Compute time axis (seconds)
df['time_s'] = df['frame'] / fps

import numpy as np

# Simple correction: for each frame, ensure right/left elbow doesn't swap by accident.
# We'll swap points if a "jump" is detected (distance to previous left < distance to previous right).
import numpy as np

def correct_symmetric_swaps(df, left_idx, right_idx, prefix='lm'):
    """
    Fix swaps for symmetric joints by checking continuity.
    left_idx, right_idx: index numbers for left/right landmarks (e.g., 13, 14 for elbows)
    """
    for idx in range(1, len(df)):
        prev_r = np.array([df.loc[idx-1, f'{prefix}{right_idx}_x'], df.loc[idx-1, f'{prefix}{right_idx}_y']])
        prev_l = np.array([df.loc[idx-1, f'{prefix}{left_idx}_x'], df.loc[idx-1, f'{prefix}{left_idx}_y']])
        curr_r = np.array([df.loc[idx, f'{prefix}{right_idx}_x'], df.loc[idx, f'{prefix}{right_idx}_y']])
        curr_l = np.array([df.loc[idx, f'{prefix}{left_idx}_x'], df.loc[idx, f'{prefix}{left_idx}_y']])
        d_rr = np.linalg.norm(curr_r - prev_r)
        d_rl = np.linalg.norm(curr_l - prev_r)
        d_ll = np.linalg.norm(curr_l - prev_l)
        d_lr = np.linalg.norm(curr_r - prev_l)
        # If both cross distances are smaller, swap
        if d_rl < d_rr and d_lr < d_ll:
            for axis in ['x','y']:
                temp = df.loc[idx, f'{prefix}{right_idx}_{axis}']
                df.loc[idx, f'{prefix}{right_idx}{axis}'] = df.loc[idx, f'{prefix}{left_idx}{axis}']
                df.loc[idx, f'{prefix}{left_idx}_{axis}'] = temp

# Correct elbows (13:left, 14:right) and shoulders (11:left, 12:right)
correct_symmetric_swaps(df, left_idx=13, right_idx=14, prefix='lm')  # Elbows
correct_symmetric_swaps(df, left_idx=11, right_idx=12, prefix='lm')  # Shoulders

h = 1.0 / fps

for joint in ['lm12', 'lm11', 'lm14', 'lm13']:  # lm12=right shoulder, lm11=left shoulder, lm14=right elbow, lm13=left elbow
    # Y-axis displacement
    df[f'{joint}_y_disp'] = df[f'{joint}_y'].diff().fillna(0)
    # Y-axis velocity: 5-point central diff
    df[f'{joint}_y_v'] = (
        -df[f'{joint}_y'].shift(-2) + 8 * df[f'{joint}_y'].shift(-1)
        - 8 * df[f'{joint}_y'].shift(1) + df[f'{joint}_y'].shift(2)
    ) / (12 * h)
    # Y-axis acceleration: 5-point central diff
    df[f'{joint}_y_a'] = (
        -df[f'{joint}_y'].shift(-2)
        + 16 * df[f'{joint}_y'].shift(-1)
        - 30 * df[f'{joint}_y']
        + 16 * df[f'{joint}_y'].shift(1)
        - df[f'{joint}_y'].shift(2)
    ) / (12 * h ** 2)



# Now plot as before
# ... [your plot_trajectory code here] ...

import matplotlib.pyplot as plt

for joint, name, color in [
    ('lm12', 'Right Shoulder', 'red'),
    ('lm11', 'Left Shoulder', 'magenta'),
    ('lm14', 'Right Elbow', 'blue'),
    ('lm13', 'Left Elbow', 'cyan')
]:
    plt.figure(figsize=(12, 8))
    plt.subplot(3, 1, 1)
    plt.plot(df['time_s'], df[f'{joint}_y_disp'].cum(), label=f'{name} Displacement Y', color=color)
    plt.xlabel('Time (s)')
    plt.ylabel('Displacement (Y)')
    plt.legend()
    plt.grid()
    plt.title(f"{name}: Y Displacement (raw)")

    plt.subplot(3, 1, 2)
    plt.plot(df['time_s'], df[f'{joint}_y_v'], label=f'{name} Velocity Y', color=color)
    plt.ylabel('Velocity (Y)')
    plt.legend()
    plt.grid()
    plt.title(f"{name}: Y Velocity (5-point raw)")

    plt.subplot(3, 1, 3)
    plt.plot(df['time_s'], df[f'{joint}_y_a'], label=f'{name} Acceleration Y', color=color)
    plt.xlabel('Time (s)')
    plt.ylabel('Acceleration (Y)')
    plt.legend()
    plt.grid()
    plt.title(f"{name}: Y Acceleration (5-point raw)")

    plt.tight_layout()
    plt.show()



# Plot angles vs time
plt.figure(figsize=(12,6))
plt.plot(df['time_s'], df['right_elbow_angle'], label='Right Elbow Angle (deg)', color='red')
plt.plot(df['time_s'], df['left_elbow_angle'], label='Left Elbow Angle (deg)', color='blue')
plt.xlabel('Time (seconds)')
plt.ylabel('Angle (degrees)')
plt.title('Elbow Angles vs Time')
plt.legend()
plt.grid()
plt.tight_layout()
plt.show()

# Plot 2D trajectory for right and left elbows and shoulders
plt.figure(figsize=(8,8))
plt.plot(df['lm12_x'], df['lm12_y'], label='Right Shoulder', color='red')   # Right shoulder: 12
plt.plot(df['lm11_x'], df['lm11_y'], label='Left Shoulder', color='magenta')# Left shoulder: 11
plt.plot(df['lm14_x'], df['lm14_y'], label='Right Elbow', color='blue')     # Right elbow: 14
plt.plot(df['lm13_x'], df['lm13_y'], label='Left Elbow', color='cyan')      # Left elbow: 13

# Optionally mark start (green) and end (red) points for shoulders
plt.scatter([df['lm12_x'].iloc[0], df['lm11_x'].iloc[0]],
            [df['lm12_y'].iloc[0], df['lm11_y'].iloc[0]],
            color='green', s=60, label='Start (Shoulders)')
plt.scatter([df['lm12_x'].iloc[-1], df['lm11_x'].iloc[-1]],
            [df['lm12_y'].iloc[-1], df['lm11_y'].iloc[-1]],
            color='red', s=60, label='End (Shoulders)')

plt.gca().invert_yaxis()
plt.xlabel('Normalized X')
plt.ylabel('Normalized Y')
plt.title('2D Trajectory of Elbow and Shoulder Points')
plt.legend()
plt.grid()
plt.tight_layout()
plt.show()

plt.figure(figsize=(8,8))
plt.plot(df['lm12_x'], df['lm12_y'], label='Right Shoulder', color='red')      # 12: Right shoulder
plt.plot(df['lm11_x'], df['lm11_y'], label='Left Shoulder', color='magenta')   # 11: Left shoulder
plt.plot(df['lm14_x'], df['lm14_y'], label='Right Elbow', color='blue')        # 14: Right elbow
plt.plot(df['lm13_x'], df['lm13_y'], label='Left Elbow', color='cyan')         # 13: Left elbow

# Mark start and end points (shoulders)
plt.scatter([df['lm12_x'].iloc[0], df['lm11_x'].iloc[0]],
            [df['lm12_y'].iloc[0], df['lm11_y'].iloc[0]],
            color='green', s=60, label='Start (Shoulders)')
plt.scatter([df['lm12_x'].iloc[-1], df['lm11_x'].iloc[-1]],
            [df['lm12_y'].iloc[-1], df['lm11_y'].iloc[-1]],
            color='red', s=60, label='End (Shoulders)')

plt.gca().invert_yaxis()
plt.xlabel('Normalized X')
plt.ylabel('Normalized Y')
plt.title('2D Trajectory: Elbows and Shoulders')
plt.legend()
plt.grid()
plt.tight_layout()
plt.show()

plt.figure(figsize=(8,8))
plt.plot(df['lm12_x'], df['lm12_y'], label='Right Shoulder', color='red')
plt.plot(df['lm11_x'], df['lm11_y'], label='Left Shoulder', color='magenta')
plt.plot(df['lm14_x'], df['lm14_y'], label='Right Elbow', color='blue')
plt.plot(df['lm13_x'], df['lm13_y'], label='Left Elbow', color='cyan')

# Optional: Mark start and end points for visual clarity (shoulders)
plt.scatter([df['lm12_x'].iloc[0], df['lm11_x'].iloc[0]],
            [df['lm12_y'].iloc[0], df['lm11_y'].iloc[0]],
            color='green', s=60, label='Start (Shoulders)')
plt.scatter([df['lm12_x'].iloc[-1], df['lm11_x'].iloc[-1]],
            [df['lm12_y'].iloc[-1], df['lm11_y'].iloc[-1]],
            color='red', s=60, label='End (Shoulders)')

plt.gca().invert_yaxis()
plt.xlabel('Normalized X')
plt.ylabel('Normalized Y')
plt.title('2D Trajectory of Elbow and Shoulder Points')
plt.legend()
plt.grid()
plt.tight_layout()
plt.show()


___________________________________________________________________________________

import cv2
import mediapipe as mp
import numpy as np
import pandas as pd
import matplotlib.pyplot as plt

# --- CONFIG ---
VIDEO_PATH = r'C:\Blood of the dragon\DL\videos\pull up_1.mp4'

# --- POSE SETUP ---
mp_pose = mp.solutions.pose
pose = mp_pose.Pose(static_image_mode=False, min_detection_confidence=0.5, min_tracking_confidence=0.5)

def calculate_angle(a, b, c):
    a = np.array(a)
    b = np.array(b)
    c = np.array(c)
    ba = a - b
    bc = c - b
    cosine_angle = np.dot(ba, bc) / (np.linalg.norm(ba) * np.linalg.norm(bc))
    angle = np.arccos(np.clip(cosine_angle, -1.0, 1.0))
    return np.degrees(angle)

# --- DATA EXTRACTION ---
data = []
cap = cv2.VideoCapture(VIDEO_PATH)
fps = cap.get(cv2.CAP_PROP_FPS)
frame_num = 0

while cap.isOpened():
    ret, frame = cap.read()
    if not ret:
        break
    frame_num += 1
    rgb = cv2.cvtColor(frame, cv2.COLOR_BGR2RGB)
    results = pose.process(rgb)
    if results.pose_landmarks:
        landmarks = results.pose_landmarks.landmark
        row = [frame_num]
        for lm in landmarks:
            row.extend([lm.x, lm.y, lm.z])
        # Right elbow angle (shoulder=12, elbow=14, wrist=16)
        right_elbow_angle = calculate_angle(
            [landmarks[12].x, landmarks[12].y, landmarks[12].z],
            [landmarks[14].x, landmarks[14].y, landmarks[14].z],
            [landmarks[16].x, landmarks[16].y, landmarks[16].z]
        )
        # Left elbow angle (shoulder=11, elbow=13, wrist=15)
        left_elbow_angle = calculate_angle(
            [landmarks[11].x, landmarks[11].y, landmarks[11].z],
            [landmarks[13].x, landmarks[13].y, landmarks[13].z],
            [landmarks[15].x, landmarks[15].y, landmarks[15].z]
        )
        # Right shoulder angle (hip=24, shoulder=12, elbow=14)
        right_shoulder_angle = calculate_angle(
            [landmarks[24].x, landmarks[24].y, landmarks[24].z],
            [landmarks[12].x, landmarks[12].y, landmarks[12].z],
            [landmarks[14].x, landmarks[14].y, landmarks[14].z]
        )
        # Left shoulder angle (hip=23, shoulder=11, elbow=13)
        left_shoulder_angle = calculate_angle(
            [landmarks[23].x, landmarks[23].y, landmarks[23].z],
            [landmarks[11].x, landmarks[11].y, landmarks[11].z],
            [landmarks[13].x, landmarks[13].y, landmarks[13].z]
        )
        row.extend([right_elbow_angle, left_elbow_angle, right_shoulder_angle, left_shoulder_angle])
        data.append(row)

cap.release()
pose.close()

# --- DATAFRAME SETUP ---
columns = ['frame']
for i in range(33):
    columns += [f'lm{i}_x', f'lm{i}_y', f'lm{i}_z']
columns += ['right_elbow_angle', 'left_elbow_angle', 'right_shoulder_angle', 'left_shoulder_angle']
df = pd.DataFrame(data, columns=columns)
df['time_s'] = df['frame'] / fps

# --- KINEMATIC METRICS (Y-axis, 5-point central diff, raw) ---
h = 1.0 / fps
for joint in ['lm12', 'lm11', 'lm14', 'lm13']:
    df[f'{joint}_y_disp'] = df[f'{joint}_y'].diff().fillna(0)
    df[f'{joint}_y_v'] = (
        -df[f'{joint}_y'].shift(-2) + 8 * df[f'{joint}_y'].shift(-1)
        - 8 * df[f'{joint}_y'].shift(1) + df[f'{joint}_y'].shift(2)
    ) / (12 * h)
    df[f'{joint}_y_a'] = (
        -df[f'{joint}_y'].shift(-2)
        + 16 * df[f'{joint}_y'].shift(-1)
        - 30 * df[f'{joint}_y']
        + 16 * df[f'{joint}_y'].shift(1)
        - df[f'{joint}_y'].shift(2)
    ) / (12 * h ** 2)

df.fillna(0, inplace=True)
df.to_excel('velocity_pushup.xlsx', index=False)
print("Done! Data saved to velocity_pushup.xlsx")

# --- SHOULDER ANGLE PLOT ---
plt.figure(figsize=(10, 6))
plt.plot(df['time_s'], df['right_shoulder_angle'], label='Right Shoulder Angle', color='orange')
plt.plot(df['time_s'], df['left_shoulder_angle'], label='Left Shoulder Angle', color='purple')
plt.xlabel('Time (s)')
plt.ylabel('Shoulder Angle (degrees)')
plt.title('Shoulder Angles Over Time')
plt.legend()
plt.grid()
plt.tight_layout()
plt.show()

# --- SEPARATE PLOTS FOR EACH JOINT ---
joint_names = {
    'lm12': 'Right Shoulder',
    'lm11': 'Left Shoulder',
    'lm14': 'Right Elbow',
    'lm13': 'Left Elbow'
}
joint_colors = {
    'lm12': 'green',
    'lm11': 'magenta',
    'lm14': 'blue',
    'lm13': 'cyan'
}

for joint in ['lm12', 'lm11', 'lm14', 'lm13']:
    plt.figure(figsize=(12, 8))
    plt.subplot(3, 1, 1)
    plt.plot(df['time_s'], df[f'{joint}_y_disp'], color=joint_colors[joint])
    plt.ylabel('Displacement Y')
    plt.title(f'{joint_names[joint]}: Y Displacement (Frame-to-Frame)')
    plt.grid()

    plt.subplot(3, 1, 2)
    plt.plot(df['time_s'], df[f'{joint}_y_v'], color=joint_colors[joint])
    plt.ylabel('Velocity Y')
    plt.title(f'{joint_names[joint]}: Y Velocity (5-point)')
    plt.grid()

    plt.subplot(3, 1, 3)
    plt.plot(df['time_s'], df[f'{joint}_y_a'], color=joint_colors[joint])
    plt.xlabel('Time (s)')
    plt.ylabel('Acceleration Y')
    plt.title(f'{joint_names[joint]}: Y Acceleration (5-point)')
    plt.grid()

    plt.tight_layout()
    plt.show()

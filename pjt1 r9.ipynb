import cv2
import mediapipe as mp
import numpy as np
import pandas as pd

# --- CONFIG ---
VIDEO_PATH = r'C:\Blood of the dragon\DL\videos\pull up_1.mp4'

# --- POSE SETUP ---
mp_pose = mp.solutions.pose
pose = mp_pose.Pose(static_image_mode=False, min_detection_confidence=0.5, min_tracking_confidence=0.5)

# --- DATA EXTRACTION ---
data = []
cap = cv2.VideoCapture(VIDEO_PATH)
frame_num = 0

while cap.isOpened():
    ret, frame = cap.read()
    if not ret:
        break
    frame_num += 1
    rgb = cv2.cvtColor(frame, cv2.COLOR_BGR2RGB)
    results = pose.process(rgb)
    if results.pose_landmarks:
        landmarks = results.pose_landmarks.landmark
        row = [frame_num]
        for lm in landmarks:
            # Only LM values: x, y, z
            row.extend([lm.x, lm.y, lm.z])
        data.append(row)

cap.release()
pose.close()

# --- SAVE TO EXCEL ---
columns = ['frame']
for i in range(33):
    columns += [f'lm{i}_x', f'lm{i}_y', f'lm{i}_z']
df = pd.DataFrame(data, columns=columns)
df.to_excel('review9.xlsx', index=False)

print("Completed! LM values exported to review9.xlsx")

import pandas as pd
import matplotlib.pyplot as plt
import numpy as np
from scipy.signal import find_peaks

from scipy.signal import savgol_filter

window_length = 19  # should be odd, experiment (11–31 typically)
polyorder = 3       # 2 or 3 is common

# --- CONFIG ---
EXCEL_PATH = 'review9.xlsx'
FPS = 30

# --- READ DATA ---
df = pd.read_excel(EXCEL_PATH)
df['time_s'] = df['frame'] / FPS




def fft_lowpass_filter(signal, cutoff_hz, fps):
    N = len(signal)
    fft_vals = np.fft.fft(signal)
    fft_freq = np.fft.fftfreq(N, d=1.0/fps)
    fft_vals[np.abs(fft_freq) > cutoff_hz] = 0
    filtered = np.fft.ifft(fft_vals)
    return np.real(filtered)

signal = df['lm11_y']
N = len(signal)
fps = FPS

fft_vals = np.fft.fft(signal)
fft_freqs = np.fft.fftfreq(N, d=1.0/fps)
mag = np.abs(fft_vals)
pos_mask = (fft_freqs > 0)

# Find the dominant frequency (ignore DC)
dominant_idx = np.argmax(mag[pos_mask])
dominant_freq = fft_freqs[pos_mask][dominant_idx]

# Suggest cutoff frequency as N times dominant frequency
factor = 3
suggested_cutoff = factor * dominant_freq

# plt.figure(figsize=(10,4))
# plt.plot(fft_freqs[pos_mask], mag[pos_mask], label="FFT Magnitude")
# plt.axvline(dominant_freq, color='green', linestyle='--', label=f"Dominant {dominant_freq:.2f} Hz")
# plt.axvline(suggested_cutoff, color='red', linestyle='--', label=f"Suggested cutoff {suggested_cutoff:.2f} Hz")
# plt.xlabel("Frequency (Hz)")
# plt.ylabel("Magnitude")
# plt.title("Frequency Spectrum of lm11_y (Left Shoulder Y)")
# plt.legend()
# plt.grid()
# plt.tight_layout()
# plt.show()

# print(f"Dominant frequency (main motion): {dominant_freq:.3f} Hz")
# print(f"Suggested cutoff: {suggested_cutoff:.3f} Hz (factor={factor}x)")

# Apply FFT filter (e.g., cutoff at 4 Hz)
# cutoff_hz = 4  # or adjust (3-5Hz typical for human movement)

# # --- PLOT FFT MAGNITUDE SPECTRUM WITH CUTOFF LINE ---
# signal = df['lm11_y']  # Use the raw left shoulder Y signal
# N = len(signal)
# fft_vals = np.fft.fft(signal)
# fft_freqs = np.fft.fftfreq(N, d=1.0/FPS)
# mag = np.abs(fft_vals)
# pos_mask = fft_freqs >= 0

# plt.figure(figsize=(8,4))
# plt.plot(fft_freqs[pos_mask], mag[pos_mask], label="FFT Magnitude")
# plt.axvline(cutoff_hz, color='red', linestyle='--', label=f"Cutoff ({cutoff_hz} Hz)")
# plt.xlabel("Frequency (Hz)")
# plt.ylabel("Magnitude")
# plt.title("Frequency Spectrum of lm11_y (Left Shoulder Y)")
# plt.legend()
# plt.grid()
# plt.tight_layout()
# plt.show()


# Filter shoulder and elbow y values (right and left)
# df['lm11_y_filt'] = fft_lowpass_filter(df['lm11_y'], cutoff_hz, FPS)  # left shoulder
# df['lm12_y_filt'] = fft_lowpass_filter(df['lm12_y'], cutoff_hz, FPS)  # right shoulder
# df['lm13_y_filt'] = fft_lowpass_filter(df['lm13_y'], cutoff_hz, FPS)  # left elbow
# df['lm14_y_filt'] = fft_lowpass_filter(df['lm14_y'], cutoff_hz, FPS)  # right elbow
df['lm11_y_filt'] = savgol_filter(df['lm11_y'], window_length=window_length, polyorder=polyorder)
df['lm12_y_filt'] = savgol_filter(df['lm12_y'], window_length=window_length, polyorder=polyorder)
df['lm13_y_filt'] = savgol_filter(df['lm13_y'], window_length=window_length, polyorder=polyorder)
df['lm14_y_filt'] = savgol_filter(df['lm14_y'], window_length=window_length, polyorder=polyorder)
# (Can add for x/z also)


# (You can optionally filter x/z as well for 3D angle smoothing)

# --- LEFT SHOULDER (lm11) ANALYSIS ---
df['lm11_y_filt_actual_disp'] = df['lm11_y_filt'] - df['lm11_y_filt'].iloc[0]
h = 1.0 / FPS
df['lm11_y_filt_v'] = (
    -df['lm11_y_filt'].shift(-2) + 8*df['lm11_y_filt'].shift(-1)
    -8*df['lm11_y_filt'].shift(1) + df['lm11_y_filt'].shift(2)
) / (12 * h)
df['lm11_y_filt_a'] = (
    -df['lm11_y_filt'].shift(-2)
    +16*df['lm11_y_filt'].shift(-1)
    -30*df['lm11_y_filt']
    +16*df['lm11_y_filt'].shift(1)
    -df['lm11_y_filt'].shift(2)
) / (12 * h**2)
df = df.fillna(0)

# --- FIND MAX VELOCITY, THRESHOLDS, START/END MOVEMENT ---
max_velocity = df['lm11_y_filt_v'].abs().max()
thresh = 0.05 * max_velocity

velocity = df['lm11_y_filt_v'].abs()
start_idx = velocity[velocity > thresh].index[0]
end_idx = velocity[velocity > thresh].index[-1]
start_time = df.loc[start_idx, 'time_s']
end_time = df.loc[end_idx, 'time_s']
print(f"Max velocity: {max_velocity:.4f}")
print(f"Start of movement: Frame {df.loc[start_idx, 'frame']} | Time {start_time:.2f}s")
print(f"End of movement: Frame {df.loc[end_idx, 'frame']} | Time {end_time:.2f}s")

# --- SLICE DATAFRAME FOR SUBSEQUENT CALCULATIONS ---
df_move = df.loc[start_idx:end_idx].reset_index(drop=True)

def calculate_angle(a, b, c):
    a = np.array(a)
    b = np.array(b)
    c = np.array(c)
    ba = a - b
    bc = c - b
    cosine_angle = np.dot(ba, bc) / (np.linalg.norm(ba) * np.linalg.norm(bc))
    angle = np.arccos(np.clip(cosine_angle, -1.0, 1.0))
    return np.degrees(angle)

# --- CALCULATE ANGLES ---
left_elbow_angles = []
right_elbow_angles = []
left_shoulder_angles = []
right_shoulder_angles = []
for i, row in df.iterrows():
    left_elbow = calculate_angle(
        [row['lm11_x'], row['lm11_y_filt'], row['lm11_z']],
        [row['lm13_x'], row['lm13_y_filt'], row['lm13_z']],
        [row['lm15_x'], row['lm15_y'], row['lm15_z']]
    )
    right_elbow = calculate_angle(
        [row['lm12_x'], row['lm12_y_filt'], row['lm12_z']],
        [row['lm14_x'], row['lm14_y_filt'], row['lm14_z']],
        [row['lm16_x'], row['lm16_y'], row['lm16_z']]
    )
    left_shoulder = calculate_angle(
        [row['lm23_x'], row['lm23_y'], row['lm23_z']],
        [row['lm11_x'], row['lm11_y_filt'], row['lm11_z']],
        [row['lm13_x'], row['lm13_y_filt'], row['lm13_z']]
    )
    right_shoulder = calculate_angle(
        [row['lm24_x'], row['lm24_y'], row['lm24_z']],
        [row['lm12_x'], row['lm12_y_filt'], row['lm12_z']],
        [row['lm14_x'], row['lm14_y_filt'], row['lm14_z']]
    )
    left_elbow_angles.append(left_elbow)
    right_elbow_angles.append(right_elbow)
    left_shoulder_angles.append(left_shoulder)
    right_shoulder_angles.append(right_shoulder)

df['left_elbow_angle'] = left_elbow_angles
df['right_elbow_angle'] = right_elbow_angles
df['left_shoulder_angle'] = left_shoulder_angles
df['right_shoulder_angle'] = right_shoulder_angles

max_elbow = df['left_elbow_angle'].max()
min_elbow = df['left_elbow_angle'].min()
print(f"Max left elbow angle: {max_elbow:.2f}")
print(f"Min left elbow angle: {min_elbow:.2f}")

# Rep detection with smoothing
df['smoothed_angle'] = (
    df['left_elbow_angle']
    .rolling(window=7, center=True)
    .mean()
    .bfill()
    .ffill()
)
min_angle = df['smoothed_angle'].min()
rep_threshold = min_angle + 10
peaks, props = find_peaks(-df['smoothed_angle'], height=-rep_threshold, distance=20)
print(f"Reps detected (smoothed, strict): {len(peaks)}")

rep_times = df.loc[peaks, 'time_s']

# --- SAVE TO NEW EXCEL ---
df.to_excel('review9_result.xlsx', index=False)

# --- PLOT ---  
plt.figure(figsize=(12, 8))

# Displacement
plt.subplot(3, 1, 1)
plt.plot(df['time_s'], df['lm11_y_filt_actual_disp'], color='magenta')
for time in rep_times:
    plt.axvline(x=time, color='blue', linestyle=':', alpha=0.6, label='Rep' if time==rep_times.iloc[0] else "")
plt.axvline(x=start_time, color='green', linestyle='--', label='Start move (5% max v)')
plt.axvline(x=end_time, color='red', linestyle='--', label='End move (5% max v)')
plt.ylabel('Displacement Y')
plt.title('Left Shoulder: Actual Y Displacement Over Time')
plt.grid()
plt.legend()

# Velocity
plt.subplot(3, 1, 2)
plt.plot(df['time_s'], df['lm11_y_filt_v'], color='magenta')
for time in rep_times:
    plt.axvline(x=time, color='blue', linestyle=':', alpha=0.6, label='Rep' if time==rep_times.iloc[0] else "")
plt.axvline(x=start_time, color='green', linestyle='--')
plt.axvline(x=end_time, color='red', linestyle='--')
plt.ylabel('Velocity Y')
plt.title('Left Shoulder: Y Velocity (5-point)')
plt.grid()

# Acceleration
plt.subplot(3, 1, 3)
plt.plot(df['time_s'], df['lm11_y_filt_a'], color='magenta')
for time in rep_times:
    plt.axvline(x=time, color='blue', linestyle=':', alpha=0.6)
plt.axvline(x=start_time, color='green', linestyle='--')
plt.axvline(x=end_time, color='red', linestyle='--')
plt.xlabel('Time (s)')
plt.ylabel('Acceleration Y')
plt.title('Left Shoulder: Y Acceleration (5-point)')
plt.grid()

plt.tight_layout()
plt.show()

plt.figure(figsize=(14, 10))

# Left Elbow Angle
plt.subplot(2, 2, 1)
plt.plot(df['time_s'], df['left_elbow_angle'], color='magenta', label='Left Elbow')
for time in rep_times:
    plt.axvline(x=time, color='blue', linestyle=':', alpha=0.6)
plt.axvline(x=start_time, color='green', linestyle='--', label='Start move')
plt.axvline(x=end_time, color='red', linestyle='--', label='End move')
plt.xlabel('Time (s)')
plt.ylabel('Elbow Angle (deg)')
plt.title('Left Elbow Angle')
plt.grid()
plt.legend()

# Right Elbow Angle
plt.subplot(2, 2, 2)
plt.plot(df['time_s'], df['right_elbow_angle'], color='orange', label='Right Elbow')
for time in rep_times:
    plt.axvline(x=time, color='blue', linestyle=':', alpha=0.6)
plt.axvline(x=start_time, color='green', linestyle='--', label='Start move')
plt.axvline(x=end_time, color='red', linestyle='--', label='End move')
plt.xlabel('Time (s)')
plt.ylabel('Elbow Angle (deg)')
plt.title('Right Elbow Angle')
plt.grid()
plt.legend()

# Left Shoulder Angle
plt.subplot(2, 2, 3)
plt.plot(df['time_s'], df['left_shoulder_angle'], color='purple', label='Left Shoulder')
for time in rep_times:
    plt.axvline(x=time, color='blue', linestyle=':', alpha=0.6)
plt.axvline(x=start_time, color='green', linestyle='--', label='Start move')
plt.axvline(x=end_time, color='red', linestyle='--', label='End move')
plt.xlabel('Time (s)')
plt.ylabel('Shoulder Angle (deg)')
plt.title('Left Shoulder Angle')
plt.grid()
plt.legend()

# Right Shoulder Angle
plt.subplot(2, 2, 4)
plt.plot(df['time_s'], df['right_shoulder_angle'], color='teal', label='Right Shoulder')
for time in rep_times:
    plt.axvline(x=time, color='blue', linestyle=':', alpha=0.6)
plt.axvline(x=start_time, color='green', linestyle='--', label='Start move')
plt.axvline(x=end_time, color='red', linestyle='--', label='End move')
plt.xlabel('Time (s)')
plt.ylabel('Shoulder Angle (deg)')
plt.title('Right Shoulder Angle')
plt.grid()
plt.legend()

plt.tight_layout()
plt.show()

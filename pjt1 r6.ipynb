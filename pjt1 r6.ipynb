!pip install mediapipe

# --- 1. Imports & Setup ---
import cv2
import mediapipe as mp
import numpy as np
import pandas as pd
import matplotlib.pyplot as plt
from mpl_toolkits.mplot3d import Axes3D
from scipy.signal import savgol_filter
import os
from google.colab import drive

# --- 2. Mount Google Drive for Bulk Video Processing ---
drive.mount('/content/drive')
VIDEO_DIR = '/content/drive/MyDrive/pull Up'  # CHANGE to your videos' folder path

# --- 3. MediaPipe Pose Setup ---
mp_pose = mp.solutions.pose
pose = mp_pose.Pose(static_image_mode=False, min_detection_confidence=0.5, min_tracking_confidence=0.5)

# --- 4. Helper Functions ---

def calculate_angle(a, b, c):
    a, b, c = np.array(a), np.array(b), np.array(c)
    ba, bc = a - b, c - b
    cosine_angle = np.dot(ba, bc) / (np.linalg.norm(ba) * np.linalg.norm(bc))
    angle = np.arccos(np.clip(cosine_angle, -1.0, 1.0))
    return np.degrees(angle)

def smooth_series(series, window=7, polyorder=2):
    # Savitzky-Golay smoother, tweak window as needed; falls back if too short
    if len(series) >= window:
        return savgol_filter(series, window, polyorder)
    else:
        return series

def plot_3d(df, joints, title='3D Joint Trajectories'):
    fig = plt.figure(figsize=(10,8))
    ax = fig.add_subplot(111, projection='3d')
    for joint, color in joints:
        ax.plot(df[f'{joint}_x'], df[f'{joint}_y'], df[f'{joint}_z'], label=joint, color=color)
        # Reference start/end
        ax.scatter(df[f'{joint}_x'].iloc[0], df[f'{joint}_y'].iloc[0], df[f'{joint}_z'].iloc[0], color=color, marker='o', s=80, label=f'{joint} Start')
        ax.scatter(df[f'{joint}_x'].iloc[-1], df[f'{joint}_y'].iloc[-1], df[f'{joint}_z'].iloc[-1], color=color, marker='X', s=80, label=f'{joint} End')
    ax.set_xlabel('X')
    ax.set_ylabel('Y')
    ax.set_zlabel('Z')
    plt.title(title)
    ax.legend()
    plt.show()

def plot_stick_figure_landmarks(landmarks, ax=None, color='k'):
    # Typical MediaPipe skeleton connections
    connections = [
        (11, 13), (13, 15),   # Left arm
        (12, 14), (14, 16),   # Right arm
        (11, 12),             # Shoulders
        (23, 24),             # Hips
        (11, 23), (12, 24),   # Torso sides
        (23, 25), (25, 27),   # Left leg
        (24, 26), (26, 28),   # Right leg
    ]
    if ax is None: ax = plt.gca()
    for a, b in connections:
        xa, ya = landmarks[a][0], landmarks[a][1]
        xb, yb = landmarks[b][0], landmarks[b][1]
        ax.plot([xa, xb], [ya, yb], color=color, lw=2)
    ax.scatter([landmarks[i][0] for i in range(len(landmarks))],
               [landmarks[i][1] for i in range(len(landmarks))],
               color='orange', s=15)

def process_video(video_path):
    cap = cv2.VideoCapture(video_path)
    fps = cap.get(cv2.CAP_PROP_FPS)
    frame_num = 0

    data = []
    frame_width = frame_height = None
    all_landmarks = []
    valid_frames = []

    while cap.isOpened():
        ret, frame = cap.read()
        if not ret:
            break

        frame_num += 1
        if frame_num == 1:
            frame_height, frame_width = frame.shape[:2]
        rgb = cv2.cvtColor(frame, cv2.COLOR_BGR2RGB)
        results = pose.process(rgb)
        landmarks_row = [np.nan]*99

        if results.pose_landmarks:
            lmarks = results.pose_landmarks.landmark
            row = [frame_num]
            for lm in lmarks:
                row.extend([lm.x, lm.y, lm.z])
            # Check for missing/low-visibility points
            if any([lm.visibility < 0.5 for lm in lmarks]):
                continue  # Skips frames with unreliable data
            # Angles
            right_elbow = calculate_angle([lmarks[12].x, lmarks[12].y, lmarks[12].z],
                                          [lmarks[14].x, lmarks[14].y, lmarks[14].z],
                                          [lmarks[16].x, lmarks[16].y, lmarks[16].z])
            left_elbow = calculate_angle([lmarks[11].x, lmarks[11].y, lmarks[11].z],
                                         [lmarks[13].x, lmarks[13].y, lmarks[13].z],
                                         [lmarks[15].x, lmarks[15].y, lmarks[15].z])
            right_shoulder = calculate_angle([lmarks[24].x, lmarks[24].y, lmarks[24].z],
                                             [lmarks[12].x, lmarks[12].y, lmarks[12].z],
                                             [lmarks[14].x, lmarks[14].y, lmarks[14].z])
            left_shoulder = calculate_angle([lmarks[23].x, lmarks[23].y, lmarks[23].z],
                                            [lmarks[11].x, lmarks[11].y, lmarks[11].z],
                                            [lmarks[13].x, lmarks[13].y, lmarks[13].z])
            row.extend([right_elbow, left_elbow, right_shoulder, left_shoulder])
            data.append(row)
            all_landmarks.append([[lm.x, lm.y] for lm in lmarks])
            valid_frames.append(frame_num)
    cap.release()
    # DataFrame creation
    columns = ['frame']
    for i in range(33):
        columns += [f'lm{i}_x', f'lm{i}_y', f'lm{i}_z']
    columns += ['right_elbow_angle', 'left_elbow_angle', 'right_shoulder_angle', 'left_shoulder_angle']
    df = pd.DataFrame(data, columns=columns)
    df['time_s'] = df['frame'] / fps

    # Pixels for right and left shoulders:
    if len(df) == 0: return None, [], None, None  # No valid frames!
    df['lm12_x_px'] = df['lm12_x'] * frame_width
    df['lm12_y_px'] = df['lm12_y'] * frame_height
    df['lm11_x_px'] = df['lm11_x'] * frame_width
    df['lm11_y_px'] = df['lm11_y'] * frame_height

    # Smooth displacement, velocity, acceleration for right/left shoulder (y-direction, normalized and pixels)
    for side in ["lm12", "lm11"]:
        df[f'{side}_y_disp'] = df[f'{side}_y'].diff().fillna(0)
        df[f'{side}_y_disp_px'] = df[f'{side}_y_px'].diff().fillna(0)

    h = 1.0 / fps
    # 5-point central difference for velocity and acceleration
    def fivept(series):
        return (-series.shift(-2) + 8*series.shift(-1) - 8*series.shift(1) + series.shift(2)) / (12 * h)
    def fiveptacc(series):
        return (-series.shift(-2) + 16*series.shift(-1) - 30*series + 16*series.shift(1) - series.shift(2)) / (12 * h ** 2)

    for side in ["lm12", "lm11"]:
        df[f'{side}_vy'] = fivept(df[f'{side}_y'])
        df[f'{side}_vy_px'] = fivept(df[f'{side}_y_px'])
        df[f'{side}_ay'] = fiveptacc(df[f'{side}_y'])
        df[f'{side}_ay_px'] = fiveptacc(df[f'{side}_y_px'])
        # Smoothing all numeric columns except angle columns for demo here
        for col in [f'{side}_y_disp', f'{side}_y_disp_px', f'{side}_vy', f'{side}_vy_px', f'{side}_ay', f'{side}_ay_px']:
            df[col] = smooth_series(df[col])
    df.fillna(0, inplace=True)
    return df, all_landmarks, frame_width, frame_height

# --- 5. MAIN EXECUTION: Process All Videos ---

all_results = {}
video_files = [f for f in os.listdir(VIDEO_DIR) if f.endswith(('.mp4', '.avi', '.mov'))]
for vid_file in video_files:
    vid_path = os.path.join(VIDEO_DIR, vid_file)
    print(f"Processing {vid_file} ...")
    df, all_landmarks, w, h = process_video(vid_path)
    if df is not None:
        all_results[vid_file] = {'df': df, 'landmarks': all_landmarks, 'w': w, 'h': h}
        df.to_excel(f"{vid_file}_metrics.xlsx", index=False)
        print(f"Saved metrics for {vid_file}")

# --- 6. Visualization Functions (per video) ---
def plot_all_metrics(df, title_prefix='', side='right'):
    joint = 'lm12' if side == 'right' else 'lm11'
    plt.figure(figsize=(16, 20))

    plt.subplot(4, 1, 1)
    plt.plot(df['time_s'], df['right_elbow_angle'], label='Right Elbow Angle')
    plt.plot(df['time_s'], df['left_elbow_angle'], label='Left Elbow Angle')
    plt.plot(df['time_s'], df['right_shoulder_angle'], label='Right Shoulder Angle')
    plt.plot(df['time_s'], df['left_shoulder_angle'], label='Left Shoulder Angle')
    plt.title(f'{title_prefix} Elbow & Shoulder Angles')
    plt.ylabel('Degrees')
    plt.legend()
    plt.grid()

    plt.subplot(4, 1, 2)
    plt.plot(df['time_s'], df[f'{joint}_y_disp'].cumsum(), label='Shoulder Disp (norm)')
    plt.plot(df['time_s'], df[f'{joint}_y_disp_px'].cumsum(), label='Shoulder Disp (px)')
    plt.title(f'{title_prefix} Shoulder Y Displacement (Smoothed)')
    plt.ylabel('Displacement')
    plt.legend()
    plt.grid()

    plt.subplot(4, 1, 3)
    plt.plot(df['time_s'], df[f'{joint}_vy'], label='Shoulder Vy (norm)')
    plt.plot(df['time_s'], df[f'{joint}_vy_px'], label='Shoulder Vy (px)')
    plt.title(f'{title_prefix} Shoulder Y Velocity (Smoothed)')
    plt.ylabel('Velocity')
    plt.legend()
    plt.grid()

    plt.subplot(4, 1, 4)
    plt.plot(df['time_s'], df[f'{joint}_ay'], label='Shoulder Ay (norm)')
    plt.plot(df['time_s'], df[f'{joint}_ay_px'], label='Shoulder Ay (px)')
    plt.title(f'{title_prefix} Shoulder Y Acceleration (Smoothed)')
    plt.xlabel('Time (s)')
    plt.ylabel('Acceleration')
    plt.legend()
    plt.grid()

    # Reference: Mark start/end
    plt.scatter(df['time_s'].iloc[0], df[f'{joint}_y_disp'].cumsum().iloc[0], c='g', label='Start')
    plt.scatter(df['time_s'].iloc[-1], df[f'{joint}_y_disp'].cumsum().iloc[-1], c='r', label='End')
    plt.tight_layout()
    plt.show()

def plot_xy_trajectory(df, title='Joint 2D Trajectory'):
    plt.figure(figsize=(8,8))
    plt.plot(df['lm12_x'], df['lm12_y'], label='Right Shoulder', color='red')
    plt.plot(df['lm11_x'], df['lm11_y'], label='Left Shoulder', color='magenta')
    plt.plot(df['lm14_x'], df['lm14_y'], label='Right Elbow', color='blue')
    plt.plot(df['lm13_x'], df['lm13_y'], label='Left Elbow', color='cyan')
    plt.scatter([df['lm12_x'].iloc[0], df['lm11_x'].iloc[0]], [df['lm12_y'].iloc[0], df['lm11_y'].iloc[0]], color='g', s=60, label='Start (Shoulders)')
    plt.scatter([df['lm12_x'].iloc[-1], df['lm11_x'].iloc[-1]], [df['lm12_y'].iloc[-1], df['lm11_y'].iloc[-1]], color='r', s=60, label='End (Shoulders)')
    plt.gca().invert_yaxis()
    plt.title(title)
    plt.xlabel('Norm X')
    plt.ylabel('Norm Y')
    plt.legend()
    plt.grid()
    plt.show()

def compare_axes_activity(df):
    axes = ['x', 'y', 'z']
    for axis in axes:
        delta_r = df[f'lm12_{axis}'].max() - df[f'lm12_{axis}'].min()
        delta_l = df[f'lm11_{axis}'].max() - df[f'lm11_{axis}'].min()
        print(f'Right shoulder movement range ({axis}): {delta_r:.3f}')
        print(f'Left shoulder movement range ({axis}): {delta_l:.3f}')

def show_stick_diagram(landmarks_frame, frame_w, frame_h):
    fig, ax = plt.subplots(figsize=(6, 9))
    # Denormalize to pixels:
    pts = [[x*frame_w, y*frame_h] for x, y in landmarks_frame]
    plot_stick_figure_landmarks(pts, ax)
    ax.set_xlim([0, frame_w])
    ax.set_ylim([frame_h, 0])
    plt.title('Stick Diagram (Single Frame)')
    plt.show()

# --- 7. Example Usage ---
# Only use videos that were actually processed with valid frames!
completed_videos = list(all_results.keys())
if completed_videos:
    first_video = completed_videos[0]  # Use the first successfully processed video
    result = all_results[first_video]
    df1, lmarks1, w1, h1 = result['df'], result['landmarks'], result['w'], result['h']

    # Compare axes to find dominant motion
    compare_axes_activity(df1)

    # Plot summary metrics
    plot_all_metrics(df1, title_prefix=first_video, side='right')
    plot_all_metrics(df1, title_prefix=first_video, side='left')

    # 3D Trajectory
    plot_3d(df1, [('lm12', 'red'), ('lm11', 'magenta')], title='3D Trajectory (Shoulders)')

    # 2D Trajectory
    plot_xy_trajectory(df1)

    # Stick diagrams: show first/last frame
    show_stick_diagram(lmarks1[0], w1, h1)
    show_stick_diagram(lmarks1[-1], w1, h1)
else:
    print("No videos were successfully processed! Check your videos or detection quality.")


import cv2
import matplotlib.pyplot as plt
import os

completed_videos = list(all_results.keys())

for vid in completed_videos:
    print(f"Showing trajectory + screenshot for: {vid}")

    result = all_results[vid]
    df = result['df']
    w, h = result['w'], result['h']

    # 1. Choose a representative frame (middle frame of the recording)
    frame_to_show = int(df['frame'].iloc[len(df)//2])
    video_path = os.path.join(VIDEO_DIR, vid)
    cap = cv2.VideoCapture(video_path)
    cap.set(cv2.CAP_PROP_POS_FRAMES, frame_to_show-1)
    ret, frame_img = cap.read()
    cap.release()
    if not ret:
        print(f"Warning: Could not extract frame {frame_to_show} from {vid}. Skipping.")
        continue  # Skip if frame extraction failed

    # Convert to RGB for matplotlib display
    frame_img_rgb = cv2.cvtColor(frame_img, cv2.COLOR_BGR2RGB)

    # 2. Plot screenshot and trajectories side by side
    fig, axs = plt.subplots(1, 2, figsize=(16,8))

    # Video frame
    axs[0].imshow(frame_img_rgb)
    axs[0].set_title(f"{vid}\nFrame #{frame_to_show}")
    axs[0].axis('off')

    # Trajectory plot
    axs[1].plot(df['lm12_x'], df['lm12_y'], label='Right Shoulder', color='red')
    axs[1].plot(df['lm14_x'], df['lm14_y'], label='Right Elbow', color='blue')
    axs[1].plot(df['lm11_x'], df['lm11_y'], label='Left Shoulder', color='magenta')
    axs[1].plot(df['lm13_x'], df['lm13_y'], label='Left Elbow', color='cyan')
    axs[1].set_title('2D Joint Trajectories (Normalized XY)')
    axs[1].invert_yaxis()
    axs[1].legend()
    axs[1].grid(True)

    plt.tight_layout()
    plt.show()



first code
- has lesser plots
- not all vids have plots
- not smoothened curves

!pip install mediapipe --upgrade --quiet

# --- 1. Imports & Setup ---
!pip install mediapipe --quiet
import cv2
import mediapipe as mp
import numpy as np
import pandas as pd
import matplotlib.pyplot as plt
from mpl_toolkits.mplot3d import Axes3D
from scipy.signal import savgol_filter
import os
from google.colab import drive

# --- 2. Mount Google Drive ---
drive.mount('/content/drive')
VIDEO_DIR = '/content/drive/MyDrive/pull Up'  # <- CHANGE to your folder

# --- 3. MediaPipe Pose Setup ---
mp_pose = mp.solutions.pose
pose = mp_pose.Pose(static_image_mode=False, min_detection_confidence=0.5, min_tracking_confidence=0.5)

# --- 4. Helper Functions ---

def calculate_angle(a, b, c):
    a, b, c = np.array(a), np.array(b), np.array(c)
    ba, bc = a - b, c - b
    cosine_angle = np.dot(ba, bc) / (np.linalg.norm(ba) * np.linalg.norm(bc))
    angle = np.arccos(np.clip(cosine_angle, -1.0, 1.0))
    return np.degrees(angle)

def smooth_series(series, window=9, polyorder=3):
    # First median, then Savitzky-Golay for even better smoothing
    try:
        tmp = pd.Series(series).rolling(window=3, center=True).median().fillna(method="bfill").fillna(method="ffill")
        return savgol_filter(tmp, window_length=window, polyorder=polyorder)
    except Exception:
        return series  # fallback if too short

def fivept(series, h):
    # Central 5-point numerical derivative
    return (-series.shift(-2) + 8*series.shift(-1) - 8*series.shift(1) + series.shift(2)) / (12*h)

def fiveptacc(series, h):
    # Central 5-point formula for acceleration
    return (-series.shift(-2) + 16*series.shift(-1) - 30*series + 16*series.shift(1) - series.shift(2)) / (12 * h ** 2)

def plot_stick_figure_landmarks(landmarks, ax=None, color='k'):
    connections = [
        (11, 13), (13, 15),   # Left arm
        (12, 14), (14, 16),   # Right arm
        (11, 12),             # Shoulders
        (23, 24),             # Hips
        (11, 23), (12, 24),   # Torso sides
        (23, 25), (25, 27),   # Left leg
        (24, 26), (26, 28),   # Right leg
    ]
    if ax is None: ax = plt.gca()
    for a, b in connections:
        xa, ya = landmarks[a][0], landmarks[a][1]
        xb, yb = landmarks[b][0], landmarks[b][1]
        ax.plot([xa, xb], [ya, yb], color=color, lw=2)
    ax.scatter([landmarks[i][0] for i in range(len(landmarks))],
               [landmarks[i][1] for i in range(len(landmarks))],
               color='orange', s=15)

def process_video(video_path):
    cap = cv2.VideoCapture(video_path)
    fps = cap.get(cv2.CAP_PROP_FPS)
    frame_num = 0

    data = []
    frame_width = frame_height = None
    all_landmarks = []
    while cap.isOpened():
        ret, frame = cap.read()
        if not ret:
            break
        frame_num += 1
        if frame_num == 1:
            frame_height, frame_width = frame.shape[:2]
        rgb = cv2.cvtColor(frame, cv2.COLOR_BGR2RGB)
        results = pose.process(rgb)

        # Only save frames with all 33 landmarks reliably visible
        if results.pose_landmarks:
            lmarks = results.pose_landmarks.landmark
            if any([lm.visibility < 0.5 for lm in lmarks]):
                continue
            row = [frame_num]
            for lm in lmarks:
                row.extend([lm.x, lm.y, lm.z])
            # Angles for both shoulders and elbows
            right_elbow = calculate_angle([lmarks[12].x, lmarks[12].y, lmarks[12].z],
                                          [lmarks[14].x, lmarks[14].y, lmarks[14].z],
                                          [lmarks[16].x, lmarks[16].y, lmarks[16].z])
            left_elbow = calculate_angle([lmarks[11].x, lmarks[11].y, lmarks[11].z],
                                         [lmarks[13].x, lmarks[13].y, lmarks[13].z],
                                         [lmarks[15].x, lmarks[15].y, lmarks[15].z])
            right_shoulder = calculate_angle([lmarks[24].x, lmarks[24].y, lmarks[24].z],
                                             [lmarks[12].x, lmarks[12].y, lmarks[12].z],
                                             [lmarks[14].x, lmarks[14].y, lmarks[14].z])
            left_shoulder = calculate_angle([lmarks[23].x, lmarks[23].y, lmarks[23].z],
                                            [lmarks[11].x, lmarks[11].y, lmarks[11].z],
                                            [lmarks[13].x, lmarks[13].y, lmarks[13].z])
            row.extend([right_elbow, left_elbow, right_shoulder, left_shoulder])
            data.append(row)
            all_landmarks.append([[lm.x, lm.y] for lm in lmarks])
    cap.release()

    # DataFrame creation
    columns = ['frame']
    for i in range(33):
        columns += [f'lm{i}_x', f'lm{i}_y', f'lm{i}_z']
    columns += ['right_elbow_angle', 'left_elbow_angle', 'right_shoulder_angle', 'left_shoulder_angle']
    df = pd.DataFrame(data, columns=columns)
    if len(df) == 0: return None, [], None, None

    df['time_s'] = df['frame'] / fps
    # Pixel coords
    for idx in [11,12,13,14,15,16]:
        df[f'lm{idx}_x_px'] = df[f'lm{idx}_x'] * frame_width
        df[f'lm{idx}_y_px'] = df[f'lm{idx}_y'] * frame_height
        df[f'lm{idx}_z_px'] = df[f'lm{idx}_z'] * (frame_width + frame_height) / 2

    h = 1.0 / fps
    for joint in ['lm12','lm14','lm11','lm13','lm16','lm15']:
        for axis in ['x','y','z']:
            # 5-point central difference, smoothed
            s = df[f'{joint}_{axis}']
            df[f'{joint}_{axis}_disp'] = fivept(s, h)
            df[f'{joint}_{axis}_vel']  = fivept(df[f'{joint}_{axis}_disp'], h)
            df[f'{joint}_{axis}_acc']  = fiveptacc(s, h)
            df[f'{joint}_{axis}_disp'] = smooth_series(df[f'{joint}_{axis}_disp'])
            df[f'{joint}_{axis}_vel']  = smooth_series(df[f'{joint}_{axis}_vel'])
            df[f'{joint}_{axis}_acc']  = smooth_series(df[f'{joint}_{axis}_acc'])

    # Save all angles to Excel
    angle_cols = [c for c in df.columns if 'angle' in c]
    df[['frame','time_s'] + angle_cols].to_excel(os.path.splitext(os.path.basename(video_path))[0] + '_angles.xlsx', index=False)
    return df, all_landmarks, frame_width, frame_height

# --- 5. MAIN EXECUTION: Process All Videos ---

all_results = {}
video_files = [f for f in os.listdir(VIDEO_DIR) if f.endswith(('.mp4', '.avi', '.mov'))]
for vid_file in video_files:
    vid_path = os.path.join(VIDEO_DIR, vid_file)
    print(f"Processing {vid_file} ...")
    df, all_landmarks, w, h = process_video(vid_path)
    if df is not None:
        all_results[vid_file] = {'df': df, 'landmarks': all_landmarks, 'w': w, 'h': h}
    else:
        print(f"Skipped {vid_file}, no valid frames.")

# --- 6. Visualization/Analysis for Each Video ---

for vid in all_results:
    result = all_results[vid]
    df = result['df']
    lmarks_list = result['landmarks']
    w, h = result['w'], result['h']

    print(f"\n--- Analysis for {vid} ---")

    # 1. Angles over time
    plt.figure(figsize=(14,7))
    plt.plot(df['time_s'], df['right_elbow_angle'], label='Right Elbow')
    plt.plot(df['time_s'], df['left_elbow_angle'], label='Left Elbow')
    plt.plot(df['time_s'], df['right_shoulder_angle'], label='Right Shoulder')
    plt.plot(df['time_s'], df['left_shoulder_angle'], label='Left Shoulder')
    plt.xlabel('Time (s)')
    plt.ylabel('Angle (deg)')
    plt.title(f"{vid} - Joint Angles Over Time")
    plt.legend()
    plt.grid()
    plt.show()

    # 2. Displacement, velocity, acceleration for all 4 joints (Y axis shown here, X/Z can be added similarly)
    for joint in ['lm12','lm11','lm14','lm13']:
        plt.figure(figsize=(14,10))
        axes = ['x','y','z']
        for i, axis in enumerate(axes):
            plt.subplot(3,1,i+1)
            plt.plot(df['time_s'], df[f'{joint}_{axis}_disp'], label=f'{joint} {axis} disp')
            plt.plot(df['time_s'], df[f'{joint}_{axis}_vel'], label=f'{joint} {axis} vel')
            plt.plot(df['time_s'], df[f'{joint}_{axis}_acc'], label=f'{joint} {axis} acc')
            plt.legend()
            plt.grid()
            plt.title(f"{joint.upper()} {axis.upper()} Displacement/Vel/Acc (5-pt, smoothed)")
        plt.xlabel('Time (s)')
        plt.tight_layout()
        plt.show()

    # 3. 3D plot
    fig = plt.figure(figsize=(7,7))
    ax = fig.add_subplot(111, projection='3d')
    for joint, color in [('lm12','red'),('lm11','magenta')]:
        ax.plot(df[f'{joint}_x'], df[f'{joint}_y'], df[f'{joint}_z'], label=joint, color=color)
        ax.scatter(df[f'{joint}_x'].iloc[0],df[f'{joint}_y'].iloc[0],df[f'{joint}_z'].iloc[0], color='g', label=f'{joint} start')
        ax.scatter(df[f'{joint}_x'].iloc[-1],df[f'{joint}_y'].iloc[-1],df[f'{joint}_z'].iloc[-1], color='r', label=f'{joint} end')
    ax.set_xlabel('X')
    ax.set_ylabel('Y')
    ax.set_zlabel('Z')
    plt.title(f"{vid} - 3D Trajectory (Shoulders)")
    ax.legend()
    plt.show()

    # 4. Trajectory + Video Screenshot
    frame_to_show = int(df['frame'].iloc[len(df)//2])
    video_path = os.path.join(VIDEO_DIR, vid)
    cap = cv2.VideoCapture(video_path)
    cap.set(cv2.CAP_PROP_POS_FRAMES, frame_to_show-1)
    ret, frame_img = cap.read()
    cap.release()
    if ret:
        frame_img_rgb = cv2.cvtColor(frame_img, cv2.COLOR_BGR2RGB)
        fig, axs = plt.subplots(1,2,figsize=(16,8))
        axs[0].imshow(frame_img_rgb)
        axs[0].set_title(f"{vid}\nFrame #{frame_to_show}")
        axs[0].axis('off')
        axs[1].plot(df['lm12_x'], df['lm12_y'], label='R Shoulder', color='red')
        axs[1].plot(df['lm11_x'], df['lm11_y'], label='L Shoulder', color='magenta')
        axs[1].plot(df['lm14_x'], df['lm14_y'], label='R Elbow', color='blue')
        axs[1].plot(df['lm13_x'], df['lm13_y'], label='L Elbow', color='cyan')
        axs[1].scatter(df['lm12_x'].iloc[0],df['lm12_y'].iloc[0],color='g',s=60,label='R Start')
        axs[1].scatter(df['lm12_x'].iloc[-1],df['lm12_y'].iloc[-1],color='r',s=60,label='R End')
        axs[1].invert_yaxis()
        axs[1].set_title('2D Joint Trajectories (Norm)')
        axs[1].legend()
        axs[1].grid(True)
        plt.tight_layout()
        plt.show()

    # 5. Stick Diagrams (Start and End)
    for idx, frame_idx in zip(['START','END'],[0,-1]):
        fig, ax = plt.subplots(figsize=(6,9))
        pts = [[x*w, y*h] for x, y in lmarks_list[frame_idx]]
        plot_stick_figure_landmarks(pts, ax)
        ax.set_xlim([0,w])
        ax.set_ylim([h,0])
        plt.title(f"{vid} Stick Diagram ({idx})")
        plt.show()

    # 6. Which shoulder axis is moving most?
    for joint in ["lm12","lm11"]:
        print(f"\n{joint} axis RANGES (max-min):")
        for axis in ['x','y','z']:
            movement_range = df[f'{joint}_{axis}'].max() - df[f'{joint}_{axis}'].min()
            print(f"  {axis.upper()}: {movement_range:.4f}")
        print(f"Dominant axis: {max(['x','y','z'], key=lambda ax: abs(df[f'{joint}_{ax}'].max() - df[f'{joint}_{ax}'].min()))}")

    # 7. Reference points (start/end) already marked in plots above

import cv2
import mediapipe as mp
import numpy as np
import pandas as pd
import matplotlib.pyplot as plt

# Initialize MediaPipe Pose
mp_pose = mp.solutions.pose
pose = mp_pose.Pose(static_image_mode=False, min_detection_confidence=0.5, min_tracking_confidence=0.5)

VIDEO_PATH = 'pullup.mp4'  # Replace with your video file

def calculate_angle(a, b, c):
    a = np.array(a)
    b = np.array(b)
    c = np.array(c)
    ba = a - b
    bc = c - b
    cosine_angle = np.dot(ba, bc) / (np.linalg.norm(ba) * np.linalg.norm(bc))
    angle = np.arccos(np.clip(cosine_angle, -1.0, 1.0))
    return np.degrees(angle)

data = []
cap = cv2.VideoCapture(VIDEO_PATH)
fps = cap.get(cv2.CAP_PROP_FPS)
frame_num = 0

while cap.isOpened():
    ret, frame = cap.read()
    if not ret:
        break
    frame_num += 1
    rgb = cv2.cvtColor(frame, cv2.COLOR_BGR2RGB)
    results = pose.process(rgb)
    if results.pose_landmarks:
        landmarks = results.pose_landmarks.landmark
        row = [frame_num]
        for lm in landmarks:
            row.extend([lm.x, lm.y, lm.z])
        # Right elbow angle (shoulder=12, elbow=14, wrist=16)
        a = [landmarks[12].x, landmarks[12].y, landmarks[12].z]
        b = [landmarks[14].x, landmarks[14].y, landmarks[14].z]
        c = [landmarks[16].x, landmarks[16].y, landmarks[16].z]
        elbow_angle = calculate_angle(a, b, c)
        row.append(elbow_angle)
        data.append(row)

cap.release()
pose.close()

columns = ['frame']
for i in range(33):
    columns += [f'lm{i}_x', f'lm{i}_y', f'lm{i}_z']
columns.append('right_elbow_angle_deg')
df = pd.DataFrame(data, columns=columns)

# ---- SHOULDER KINEMATIC METRICS ----
# Right shoulder is lm12

# df['shoulder_disp2'] = np.sqrt(
#     (df['lm12_x'].diff())**2 +
#     (df['lm12_y'].diff())**2 +
#     (df['lm12_z'].diff())**2
# )


df[['lm12_x', 'lm12_y', 'lm12_z']] = df[['lm12_x', 'lm12_y', 'lm12_z']].astype(float)
df['shoulder_disp'] = np.sqrt(df['lm12_x'].diff()*2 + df['lm12_y'].diff()2 + df['lm12_z'].diff()*2)
# Calculate lm12 shoulder y-axis displacement
df['shoulder_disp_y'] = df['lm12_y'].diff().fillna(0)

df['shoulder_speed'] = df['shoulder_disp'] * fps
df['shoulder_vx'] = df['lm12_x'].diff() * fps
# df['shoulder_vy'] = df['lm12_y'].diff() * fps
h = 1.0 / fps
# df['shoulder_vy'] = (
#     -df['lm12_y'].shift(2) + 8*df['lm12_y'].shift(1)
#     - 8*df['lm12_y'].shift(-1) + df['lm12_y'].shift(-2)
# ) / (12 * h)

df['shoulder_vy'] = (
    -df['lm12_y'].shift(-2) + 8*df['lm12_y'].shift(-1)
    - 8*df['lm12_y'].shift(1) + df['lm12_y'].shift(2)
) / (12 * h)


df['shoulder_vz'] = df['lm12_z'].diff() * fps
df['shoulder_ax'] = df['shoulder_vx'].diff() * fps
#df['shoulder_ay'] = df['shoulder_vy'].diff() * fps
h = 1.0 / fps

# df['shoulder_ay'] = (
#     -df['lm12_y'].shift(2)
#     + 16 * df['lm12_y'].shift(1)
#     - 30 * df['lm12_y']
#     + 16 * df['lm12_y'].shift(-1)
#     - df['lm12_y'].shift(-2)
# ) / (12 * h**2)

df['shoulder_ay'] = (
    -df['lm12_y'].shift(-2)
    + 16 * df['lm12_y'].shift(-1)
    - 30 * df['lm12_y']
    + 16 * df['lm12_y'].shift(1)
    - df['lm12_y'].shift(2)
) / (12 * h**2)


df['shoulder_az'] = df['shoulder_vz'].diff() * fps
df['shoulder_jx'] = df['shoulder_ax'].diff() * fps
df['shoulder_jy'] = df['shoulder_ay'].diff() * fps
df['shoulder_jz'] = df['shoulder_az'].diff() * fps
df['time_s'] = df['frame'] / fps
df.fillna(0, inplace=True)
df.to_excel('velocity_pullup.xlsx', index=False)
print("Done! Data saved to velocity_pullup.xlsx")

# ---- PLOTTING PART (SHOULDER) ----
#fig, axs = plt.subplots(3, 1, figsize=(12, 10), sharex=True)

# Speed
# axs[0].plot(df['time_s'], df['shoulder_speed'], label='Speed', color='blue')
# axs[0].set_ylabel('Speed (units/s)')
# axs[0].set_title('Right Shoulder Speed over Time')
# axs[0].legend()
# axs[0].grid()

# # Acceleration
# axs[1].plot(df['time_s'], df['shoulder_ax'], label='Accel X', color='red')
# axs[1].plot(df['time_s'], df['shoulder_ay'], label='Accel Y', color='orange')
# axs[1].plot(df['time_s'], df['shoulder_az'], label='Accel Z', color='green')
# axs[1].set_ylabel('Acceleration (units/s²)')
# axs[1].set_title('Right Shoulder Acceleration Components')
# axs[1].legend()
# axs[1].grid()

# # Jerk
# axs[2].plot(df['time_s'], df['shoulder_jx'], label='Jerk X', color='purple')
# axs[2].plot(df['time_s'], df['shoulder_jy'], label='Jerk Y', color='magenta')
# axs[2].plot(df['time_s'], df['shoulder_jz'], label='Jerk Z', color='brown')
# axs[2].set_xlabel('Time (s)')
# axs[2].set_ylabel('Jerk (units/s³)')
# axs[2].set_title('Right Shoulder Jerk Components')
# axs[2].legend()
# axs[2].grid()

# fig, axs = plt.subplots(2, 1, figsize=(12, 8), sharex=True)
fig, axs = plt.subplots(3, 1, figsize=(12, 10), sharex=True)

# 1. Plot shoulder vy (velocity y-axis)
axs[0].plot(df['time_s'], df['shoulder_vy'], label='V_y (shoulder y-velocity)', color='blue')
axs[0].set_ylabel('V_y (units/s)')
axs[0].set_title('Right Shoulder Velocity (Y-axis) Over Time')
axs[0].legend()
axs[0].grid()

# Optionally overlay y-displacement on the same plot (green), if you want to visualize together:
axs[0].plot(df['time_s'], df['shoulder_disp_y'], label='Displacement Y', color='green')
axs[0].legend()

# 2. Plot shoulder ay (acceleration y-axis)
axs[1].plot(df['time_s'], df['shoulder_ay'], label='A_y (shoulder y-acceleration)', color='red')
axs[1].set_xlabel('Time (s)')
axs[1].set_ylabel('A_y (units/s²)')
axs[1].set_title('Right Shoulder Acceleration (Y-axis) Over Time')
axs[1].legend()
axs[1].grid()

axs[2].plot(df['time_s'], df['shoulder_disp_y'].cumsum(), label='Displacement Y (cumulative)', color='green')
axs[2].set_xlabel('Time (s)')
axs[2].set_ylabel('Displacement Y (units)')
axs[2].set_title('Right Shoulder Displacement (Y-axis) Over Time')
axs[2].legend()
axs[2].grid()

plt.tight_layout()
plt.show()

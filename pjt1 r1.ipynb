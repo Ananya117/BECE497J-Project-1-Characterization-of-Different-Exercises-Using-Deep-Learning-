import cv2
import mediapipe as mp
import numpy as np
import pandas as pd

# Initialize MediaPipe Pose
mp_pose = mp.solutions.pose
pose = mp_pose.Pose(static_image_mode=False, min_detection_confidence=0.5, min_tracking_confidence=0.5)


# Video file path
VIDEO_PATH = 'pullup.mp4'  # Replace with your video file

# Helper function to calculate angle between three points
def calculate_angle(a, b, c):
    a = np.array(a)
    b = np.array(b)
    c = np.array(c)
    ba = a - b
    bc = c - b
    cosine_angle = np.dot(ba, bc) / (np.linalg.norm(ba) * np.linalg.norm(bc))
    angle = np.arccos(np.clip(cosine_angle, -1.0, 1.0))
    return np.degrees(angle)

# List to store data for each frame
data = []

# Open video
cap = cv2.VideoCapture(VIDEO_PATH)
frame_num = 0

while cap.isOpened():
    ret, frame = cap.read()
    if not ret:
        break
    frame_num += 1
    rgb = cv2.cvtColor(frame, cv2.COLOR_BGR2RGB)
    results = pose.process(rgb)
    if results.pose_landmarks:
        # Extract all landmarks (33 for full body)
        landmarks = results.pose_landmarks.landmark
        row = [frame_num]
        # Save x, y, z for each landmark
        for lm in landmarks:
            row.extend([lm.x, lm.y, lm.z])
        # Example: Calculate right elbow angle (shoulder, elbow, wrist)
        # Indices: 12 (R_shoulder), 14 (R_elbow), 16 (R_wrist)
        idx_shoulder, idx_elbow, idx_wrist = 12, 14, 16
        a = [landmarks[idx_shoulder].x, landmarks[idx_shoulder].y, landmarks[idx_shoulder].z]
        b = [landmarks[idx_elbow].x, landmarks[idx_elbow].y, landmarks[idx_elbow].z]
        c = [landmarks[idx_wrist].x, landmarks[idx_wrist].y, landmarks[idx_wrist].z]
        elbow_angle = calculate_angle(a, b, c)
        row.append(elbow_angle)
        data.append(row)

cap.release()
pose.close()

# Prepare column names
columns = ['frame']
for i in range(33):
    columns += [f'lm{i}_x', f'lm{i}_y', f'lm{i}_z']
columns.append('right_elbow_angle_deg')

# Save to Excel
df = pd.DataFrame(data, columns=columns)
df.to_excel('pull_up_data.xlsx', index=False)
print("Done! Data saved to gym_pose_data.xlsx")
